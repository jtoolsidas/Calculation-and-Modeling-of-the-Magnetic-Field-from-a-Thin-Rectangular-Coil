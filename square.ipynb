{
 "cells": [
  {
   "cell_type": "markdown",
   "metadata": {},
   "source": [
    "Consider a current $I$ flowing counterclockwise in a loop in the xy-plane with a 3-petal shape as follows:\n",
    "\n",
    "$$\\vec{l}(t) = R\\left[1+\\frac{3}{4}\\sin(3 t)\\right] \\cdot \\left<\\cos t, \\sin t, 0 \\right> $$\n",
    "\n",
    "where $0 \\leq t \\leq 2\\pi$. The Biot-Savard Law tells us\n",
    "\n",
    "$$\\vec{B}(\\vec{r}) =  \\frac{\\mu_0 I}{4 \\pi} \\int_C \\frac{d\\vec{l} \\times (\\vec{r}-\\vec{l})}{|\\vec{r}-\\vec{l}|^3} = \\int_0^{2 \\pi} \\frac{d\\vec{l}/dt \\times (\\vec{r} - \\vec{l})}{|\\vec{r}-\\vec{l}|^3} dt$$\n",
    "\n",
    "Putting this in dimensionless form\n",
    "\n",
    "* $\\vec{l} \\to \\vec{l}/R$\n",
    "* $\\vec{r} \\to \\vec{r}/R$\n",
    "\n",
    "we get\n",
    "\n",
    "$$\\frac{4 \\pi R}{\\mu_0 I} \\vec{B}(\\vec{r}) = \\int_0^{2 \\pi} \\frac{d\\vec{l}/dt \\times (\\vec{r} - \\vec{l})}{|\\vec{r}-\\vec{l}|^3} dt$$\n"
   ]
  },
  {
   "cell_type": "code",
   "execution_count": 119,
   "metadata": {},
   "outputs": [],
   "source": [
    "import numpy as np\n",
    "import matplotlib.pyplot as plt\n",
    "from scipy.integrate import quad, quad_vec\n",
    "import plotly.graph_objects as go\n",
    "from IPython.display import HTML\n",
    "import sympy as smp\n",
    "from sympy.vector import cross\n",
    "from IPython.display import Image, display\n",
    "from IPython.core.display import HTML"
   ]
  },
  {
   "cell_type": "markdown",
   "metadata": {},
   "source": [
    "Start by looking at curve"
   ]
  },
  {
   "cell_type": "code",
   "execution_count": 121,
   "metadata": {
    "scrolled": true
   },
   "outputs": [
    {
     "data": {
      "text/plain": [
       "'\\ndef l(phi):\\n    return np.array([np.cos(phi), np.sin(phi), (phi-np.pi)/np.pi])\\n    '"
      ]
     },
     "execution_count": 121,
     "metadata": {},
     "output_type": "execute_result"
    }
   ],
   "source": [
    "phi = np.linspace(0, 2*np.pi, 100)\n",
    "\n",
    "def l(phi):\n",
    "    return (((np.cos(np.pi/4))/(np.cos(phi- (np.pi/2) * np.floor((4*phi + np.pi)/(2*np.pi))))) * np.array([np.cos(phi), np.sin(phi), np.zeros(len(phi))]))\n",
    "\n",
    "'''\n",
    "def l(phi):\n",
    "    return np.array([np.cos(phi), np.sin(phi), (phi-np.pi)/np.pi])\n",
    "    '''"
   ]
  },
  {
   "cell_type": "code",
   "execution_count": 122,
   "metadata": {},
   "outputs": [],
   "source": [
    "lx, ly, lz = l(phi)"
   ]
  },
  {
   "cell_type": "code",
   "execution_count": 123,
   "metadata": {},
   "outputs": [
    {
     "data": {
      "image/png": "[encoded data removed]",
      "text/plain": [
       "<Figure size 700x700 with 1 Axes>"
      ]
     },
     "metadata": {},
     "output_type": "display_data"
    }
   ],
   "source": [
    "plt.figure(figsize=(7,7))\n",
    "plt.plot(lx, ly)\n",
    "plt.xlabel('$x/R$', fontsize=25)\n",
    "plt.ylabel('$y/R$', fontsize=25)\n",
    "plt.show()"
   ]
  },
  {
   "cell_type": "markdown",
   "metadata": {},
   "source": [
    "Lets solve for the integrand using sympy"
   ]
  },
  {
   "cell_type": "code",
   "execution_count": 79,
   "metadata": {},
   "outputs": [],
   "source": [
    "t, x, y, z = smp.symbols('t, x, y, z')"
   ]
  },
  {
   "cell_type": "markdown",
   "metadata": {},
   "source": [
    "Get $l$, $r$, and the seperation vector $\\vec{r} - \\vec{l}$"
   ]
  },
  {
   "cell_type": "code",
   "execution_count": 81,
   "metadata": {},
   "outputs": [],
   "source": [
    "l = (1)*smp.Matrix([smp.cos(t), smp.sin(t), 0])\n",
    "#l = smp.Matrix([smp.cos(t), smp.sin(t), (t-smp.pi)/smp.pi])\n",
    "r = smp.Matrix([x, y, z])\n",
    "sep = r-l"
   ]
  },
  {
   "cell_type": "markdown",
   "metadata": {},
   "source": [
    "Define the integrand"
   ]
  },
  {
   "cell_type": "code",
   "execution_count": 83,
   "metadata": {},
   "outputs": [],
   "source": [
    "integrand = smp.diff(l, t).cross(sep) / sep.norm()**3"
   ]
  },
  {
   "cell_type": "code",
   "execution_count": 84,
   "metadata": {},
   "outputs": [
    {
     "data": {
      "text/latex": [
       "$\\displaystyle \\left[\\begin{matrix}\\frac{z \\cos{\\left(t \\right)}}{\\left(\\left|{z}\\right|^{2} + \\left|{x - \\cos{\\left(t \\right)}}\\right|^{2} + \\left|{y - \\sin{\\left(t \\right)}}\\right|^{2}\\right)^{\\frac{3}{2}}}\\\\\\frac{z \\sin{\\left(t \\right)}}{\\left(\\left|{z}\\right|^{2} + \\left|{x - \\cos{\\left(t \\right)}}\\right|^{2} + \\left|{y - \\sin{\\left(t \\right)}}\\right|^{2}\\right)^{\\frac{3}{2}}}\\\\\\frac{- \\left(x - \\cos{\\left(t \\right)}\\right) \\cos{\\left(t \\right)} - \\left(y - \\sin{\\left(t \\right)}\\right) \\sin{\\left(t \\right)}}{\\left(\\left|{z}\\right|^{2} + \\left|{x - \\cos{\\left(t \\right)}}\\right|^{2} + \\left|{y - \\sin{\\left(t \\right)}}\\right|^{2}\\right)^{\\frac{3}{2}}}\\end{matrix}\\right]$"
      ],
      "text/plain": [
       "Matrix([\n",
       "[                                    z*cos(t)/(Abs(z)**2 + Abs(x - cos(t))**2 + Abs(y - sin(t))**2)**(3/2)],\n",
       "[                                    z*sin(t)/(Abs(z)**2 + Abs(x - cos(t))**2 + Abs(y - sin(t))**2)**(3/2)],\n",
       "[(-(x - cos(t))*cos(t) - (y - sin(t))*sin(t))/(Abs(z)**2 + Abs(x - cos(t))**2 + Abs(y - sin(t))**2)**(3/2)]])"
      ]
     },
     "execution_count": 84,
     "metadata": {},
     "output_type": "execute_result"
    }
   ],
   "source": [
    "integrand"
   ]
  },
  {
   "cell_type": "markdown",
   "metadata": {},
   "source": [
    "Get the $x$, $y$, and $z$ components of the integrand"
   ]
  },
  {
   "cell_type": "code",
   "execution_count": 86,
   "metadata": {},
   "outputs": [],
   "source": [
    "dBxdt = smp.lambdify([t, x, y, z], integrand[0])\n",
    "dBydt = smp.lambdify([t, x, y, z], integrand[1])\n",
    "dBzdt = smp.lambdify([t, x, y, z], integrand[2])"
   ]
  },
  {
   "cell_type": "code",
   "execution_count": 87,
   "metadata": {},
   "outputs": [
    {
     "data": {
      "text/plain": [
       "0.6235973879372125"
      ]
     },
     "execution_count": 87,
     "metadata": {},
     "output_type": "execute_result"
    }
   ],
   "source": [
    "quad(dBxdt, 0, 2*np.pi, args = (1, 1, 1))[0]"
   ]
  },
  {
   "cell_type": "markdown",
   "metadata": {},
   "source": [
    "Get the magnetic field by performing the integral over each component"
   ]
  },
  {
   "cell_type": "code",
   "execution_count": 89,
   "metadata": {},
   "outputs": [],
   "source": [
    "def B(x, y, z):\n",
    "    return np.array([quad_vec(dBxdt, 0, 2*np.pi, args=(x, y, z))[0],\n",
    "                     quad_vec(dBydt, 0, 2*np.pi, args=(x, y, z))[0],\n",
    "                     quad_vec(dBzdt, 0, 2*np.pi, args=(x, y, z))[0]])"
   ]
  },
  {
   "cell_type": "code",
   "execution_count": 90,
   "metadata": {},
   "outputs": [
    {
     "data": {
      "text/plain": [
       "array([0.72526356, 0.72526356, 1.56142755])"
      ]
     },
     "execution_count": 90,
     "metadata": {},
     "output_type": "execute_result"
    }
   ],
   "source": [
    "B(0.5, 0.5, 1)"
   ]
  },
  {
   "cell_type": "markdown",
   "metadata": {},
   "source": [
    "Set up a meshgrid to solve for the field in some 3D volume"
   ]
  },
  {
   "cell_type": "code",
   "execution_count": 92,
   "metadata": {},
   "outputs": [],
   "source": [
    "x = np.linspace(-2, 2, 20)\n",
    "xv, yv, zv = np.meshgrid(x, x, x)"
   ]
  },
  {
   "cell_type": "code",
   "execution_count": 93,
   "metadata": {},
   "outputs": [],
   "source": [
    "#B_field = B(xv, yv, zv)\n",
    "#Bx, By, Bz = B_field"
   ]
  },
  {
   "cell_type": "code",
   "execution_count": 94,
   "metadata": {},
   "outputs": [],
   "source": [
    "B_field = np.vectorize(B, signature= '(),(),()->(n)')(xv, yv, zv)\n",
    "Bx = B_field[:,:,:,0]\n",
    "By = B_field[:,:,:,1]\n",
    "Bz = B_field[:,:,:,2]"
   ]
  },
  {
   "cell_type": "code",
   "execution_count": 95,
   "metadata": {},
   "outputs": [],
   "source": [
    "Bx[Bx>20] = 20\n",
    "By[By>20] = 20\n",
    "Bz[Bz>20] = 20\n",
    "\n",
    "Bx[Bx<-20] = -20\n",
    "By[By<-20] = -20\n",
    "Bz[Bz<-20] = -20"
   ]
  },
  {
   "cell_type": "markdown",
   "metadata": {},
   "source": [
    "Use plotly to make an interactive 3D plot"
   ]
  },
  {
   "cell_type": "code",
   "execution_count": 97,
   "metadata": {},
   "outputs": [
    {
     "data": {
      "text/plain": [
       "array([-2., -2., -2., ...,  2.,  2.,  2.])"
      ]
     },
     "execution_count": 97,
     "metadata": {},
     "output_type": "execute_result"
    }
   ],
   "source": [
    "xv.ravel()"
   ]
  },
  {
   "cell_type": "code",
   "execution_count": 98,
   "metadata": {},
   "outputs": [],
   "source": [
    "data = go.Cone(x=xv.ravel(), y=yv.ravel(), z=zv.ravel(),\n",
    "               u=Bx.ravel(), v=By.ravel(), w=Bz.ravel(),\n",
    "               colorscale='Inferno', colorbar=dict(title='$x^2$'),\n",
    "               sizemode=\"absolute\", sizeref=20)\n",
    "\n",
    "layout = go.Layout(title=r'Plot Title',\n",
    "                     scene=dict(xaxis_title=r'x',\n",
    "                                yaxis_title=r'y',\n",
    "                                zaxis_title=r'z',\n",
    "                                aspectratio=dict(x=1, y=1, z=1),\n",
    "                                camera_eye=dict(x=1.2, y=1.2, z=1.2))) \n",
    "\n",
    "fig = go.Figure(data = data, layout=layout)\n",
    "fig.add_scatter3d(x=lx, y=ly, z=lz, mode='lines',\n",
    "                   line = dict(color='green', width=10))\n",
    "\n",
    "HTML(fig.to_html())\n",
    "fig.write_html('first_figure.html', auto_open=True)"
   ]
  },
  {
   "cell_type": "code",
   "execution_count": null,
   "metadata": {},
   "outputs": [],
   "source": []
  }
 ],
 "metadata": {
  "kernelspec": {
   "display_name": "Python 3 (ipykernel)",
   "language": "python",
   "name": "python3"
  },
  "language_info": {
   "codemirror_mode": {
    "name": "ipython",
    "version": 3
   },
   "file_extension": ".py",
   "mimetype": "text/x-python",
   "name": "python",
   "nbconvert_exporter": "python",
   "pygments_lexer": "ipython3",
   "version": "3.12.4"
  }
 },
 "nbformat": 4,
 "nbformat_minor": 4
}
